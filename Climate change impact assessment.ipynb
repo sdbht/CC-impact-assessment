{
 "cells": [
  {
   "cell_type": "code",
   "execution_count": 1,
   "id": "c2d67447",
   "metadata": {},
   "outputs": [],
   "source": [
    "import datetime as dt\n",
    "import numpy as np\n",
    "import pandas as pd\n",
    "import re\n",
    "from matplotlib import pyplot as plt\n",
    "from netCDF4 import Dataset, date2index, num2date, date2num"
   ]
  },
  {
   "cell_type": "code",
   "execution_count": 217,
   "id": "c1811d45",
   "metadata": {},
   "outputs": [],
   "source": [
    "past = \"F:/CMIP6_Data/Data/Merged/tasmax_day_ACCESS-CM2_historical_r1i1p1f1_gn_1950101-20141231.nc\"\n",
    "future = [\"F:/CMIP6_Data/Data/tasmax_day_ACCESS-CM2_ssp126_r1i1p1f1_gn_20150101-20641231.nc\", \"F:/CMIP6_Data/Data/tasmax_day_ACCESS-CM2_ssp126_r1i1p1f1_gn_20650101-21001231.nc\", \"F:/CMIP6_Data/Data/tasmax_day_ACCESS-CM2_ssp245_r1i1p1f1_gn_20150101-20641231.nc\",\n",
    "         \"F:/CMIP6_Data/Data/tasmax_day_ACCESS-CM2_ssp245_r1i1p1f1_gn_20650101-21001231.nc\", \"F:/CMIP6_Data/Data/tasmax_day_ACCESS-CM2_ssp370_r1i1p1f1_gn_20150101-20641231.nc\", \"F:/CMIP6_Data/Data/tasmax_day_ACCESS-CM2_ssp370_r1i1p1f1_gn_20650101-21001231.nc\",\n",
    "         \"F:/CMIP6_Data/Data/tasmax_day_ACCESS-CM2_ssp585_r1i1p1f1_gn_20150101-20641231.nc\", \"F:/CMIP6_Data/Data/tasmax_day_ACCESS-CM2_ssp585_r1i1p1f1_gn_20650101-21001231.nc\"]"
   ]
  },
  {
   "cell_type": "code",
   "execution_count": 218,
   "id": "0f1a5743",
   "metadata": {},
   "outputs": [],
   "source": [
    "nc = Dataset(past)"
   ]
  },
  {
   "cell_type": "code",
   "execution_count": 219,
   "id": "88da72fb",
   "metadata": {},
   "outputs": [
    {
     "data": {
      "text/plain": [
       "{'time': <class 'netCDF4._netCDF4.Dimension'> (unlimited): name = 'time', size = 23741,\n",
       " 'bnds': <class 'netCDF4._netCDF4.Dimension'>: name = 'bnds', size = 2,\n",
       " 'lon': <class 'netCDF4._netCDF4.Dimension'>: name = 'lon', size = 192,\n",
       " 'lat': <class 'netCDF4._netCDF4.Dimension'>: name = 'lat', size = 144}"
      ]
     },
     "execution_count": 219,
     "metadata": {},
     "output_type": "execute_result"
    }
   ],
   "source": [
    "nc.dimensions"
   ]
  },
  {
   "cell_type": "code",
   "execution_count": 221,
   "id": "e2775efe",
   "metadata": {},
   "outputs": [
    {
     "data": {
      "text/plain": [
       "{'time': <class 'netCDF4._netCDF4.Variable'>\n",
       " float64 time(time)\n",
       "     standard_name: time\n",
       "     long_name: time\n",
       "     bounds: time_bnds\n",
       "     units: days since 1850-01-01\n",
       "     calendar: proleptic_gregorian\n",
       "     axis: T\n",
       " unlimited dimensions: time\n",
       " current shape = (23741,)\n",
       " filling on, default _FillValue of 9.969209968386869e+36 used,\n",
       " 'time_bnds': <class 'netCDF4._netCDF4.Variable'>\n",
       " float64 time_bnds(time, bnds)\n",
       " unlimited dimensions: time\n",
       " current shape = (23741, 2)\n",
       " filling on, default _FillValue of 9.969209968386869e+36 used,\n",
       " 'lon': <class 'netCDF4._netCDF4.Variable'>\n",
       " float64 lon(lon)\n",
       "     standard_name: longitude\n",
       "     long_name: Longitude\n",
       "     units: degrees_east\n",
       "     axis: X\n",
       "     bounds: lon_bnds\n",
       " unlimited dimensions: \n",
       " current shape = (192,)\n",
       " filling on, default _FillValue of 9.969209968386869e+36 used,\n",
       " 'lon_bnds': <class 'netCDF4._netCDF4.Variable'>\n",
       " float64 lon_bnds(lon, bnds)\n",
       " unlimited dimensions: \n",
       " current shape = (192, 2)\n",
       " filling on, default _FillValue of 9.969209968386869e+36 used,\n",
       " 'lat': <class 'netCDF4._netCDF4.Variable'>\n",
       " float64 lat(lat)\n",
       "     standard_name: latitude\n",
       "     long_name: Latitude\n",
       "     units: degrees_north\n",
       "     axis: Y\n",
       "     bounds: lat_bnds\n",
       " unlimited dimensions: \n",
       " current shape = (144,)\n",
       " filling on, default _FillValue of 9.969209968386869e+36 used,\n",
       " 'lat_bnds': <class 'netCDF4._netCDF4.Variable'>\n",
       " float64 lat_bnds(lat, bnds)\n",
       " unlimited dimensions: \n",
       " current shape = (144, 2)\n",
       " filling on, default _FillValue of 9.969209968386869e+36 used,\n",
       " 'height': <class 'netCDF4._netCDF4.Variable'>\n",
       " float64 height()\n",
       "     standard_name: height\n",
       "     long_name: height\n",
       "     units: m\n",
       "     positive: up\n",
       "     axis: Z\n",
       " unlimited dimensions: \n",
       " current shape = ()\n",
       " filling on, default _FillValue of 9.969209968386869e+36 used,\n",
       " 'tasmax': <class 'netCDF4._netCDF4.Variable'>\n",
       " float32 tasmax(time, lat, lon)\n",
       "     standard_name: air_temperature\n",
       "     long_name: Daily Maximum Near-Surface Air Temperature\n",
       "     units: K\n",
       "     coordinates: height\n",
       "     _FillValue: 1e+20\n",
       "     missing_value: 1e+20\n",
       "     comment: maximum near-surface (usually, 2 meter) air temperature (add cell_method attribute 'time: max')\n",
       "     cell_methods: area: mean time: maximum\n",
       "     cell_measures: area: areacella\n",
       "     history: 2019-11-09T02:14:42Z altered by CMOR: Treated scalar dimension: 'height'. 2019-11-09T02:14:42Z altered by CMOR: replaced missing value flag (-1.07374e+09) with standard missing value (1e+20).\n",
       " unlimited dimensions: time\n",
       " current shape = (23741, 144, 192)\n",
       " filling on}"
      ]
     },
     "execution_count": 221,
     "metadata": {},
     "output_type": "execute_result"
    }
   ],
   "source": [
    "nc.variables"
   ]
  },
  {
   "cell_type": "code",
   "execution_count": 222,
   "id": "84c27160",
   "metadata": {},
   "outputs": [
    {
     "data": {
      "text/plain": [
       "<class 'netCDF4._netCDF4.Variable'>\n",
       "float64 time(time)\n",
       "    standard_name: time\n",
       "    long_name: time\n",
       "    bounds: time_bnds\n",
       "    units: days since 1850-01-01\n",
       "    calendar: proleptic_gregorian\n",
       "    axis: T\n",
       "unlimited dimensions: time\n",
       "current shape = (23741,)\n",
       "filling on, default _FillValue of 9.969209968386869e+36 used"
      ]
     },
     "execution_count": 222,
     "metadata": {},
     "output_type": "execute_result"
    }
   ],
   "source": [
    "nc.variables['time']"
   ]
  },
  {
   "cell_type": "code",
   "execution_count": 223,
   "id": "bca57f94",
   "metadata": {},
   "outputs": [
    {
     "data": {
      "text/plain": [
       "masked_array(data=[36524.5, 36525.5, 36526.5, 36527.5, 36528.5, 36529.5,\n",
       "                   36530.5, 36531.5, 36532.5, 36533.5],\n",
       "             mask=False,\n",
       "       fill_value=1e+20)"
      ]
     },
     "execution_count": 223,
     "metadata": {},
     "output_type": "execute_result"
    }
   ],
   "source": [
    "nc_time = nc.variables['time']\n",
    "nc_time[0:10]"
   ]
  },
  {
   "cell_type": "code",
   "execution_count": 224,
   "id": "a0c53ac0",
   "metadata": {},
   "outputs": [],
   "source": [
    "time_start = date2index(dt.datetime(1970, 1, 1), nc_time, select=\"nearest\")\n",
    "time_end = date2index(dt.datetime(2000, 12, 31), nc_time, select=\"nearest\")"
   ]
  },
  {
   "cell_type": "code",
   "execution_count": 225,
   "id": "8fd9c9ff",
   "metadata": {},
   "outputs": [
    {
     "data": {
      "text/plain": [
       "cftime.DatetimeProlepticGregorian(2000, 12, 30, 12, 0, 0, 0, has_year_zero=True)"
      ]
     },
     "execution_count": 225,
     "metadata": {},
     "output_type": "execute_result"
    }
   ],
   "source": [
    "num2date(nc_time[time_end], units=nc_time.units, calendar=nc_time.calendar)"
   ]
  },
  {
   "cell_type": "code",
   "execution_count": 227,
   "id": "e477e0d5",
   "metadata": {},
   "outputs": [],
   "source": [
    "#Bhur station coords\n",
    "target = {\"lat\": 26.9, \"lon\": 90.43}"
   ]
  },
  {
   "cell_type": "code",
   "execution_count": 192,
   "id": "42aad382",
   "metadata": {},
   "outputs": [],
   "source": [
    "nc_lat = nc.variables['lat'][:].data\n",
    "nc_lon = nc.variables['lon'][:].data"
   ]
  },
  {
   "cell_type": "code",
   "execution_count": 228,
   "id": "af2ecb1f",
   "metadata": {},
   "outputs": [],
   "source": [
    "lat_cell = np.argmin(np.abs(nc_lat - target['lat']))\n",
    "lon_cell = np.argmin(np.abs(nc_lon - target['lon']))"
   ]
  },
  {
   "cell_type": "code",
   "execution_count": 229,
   "id": "0cf10075",
   "metadata": {},
   "outputs": [
    {
     "data": {
      "text/plain": [
       "masked_array(data=[281.46704, 282.52734, 282.80176, 282.66455, 280.49463,\n",
       "                   281.5891 , 281.35132, 284.94458, 285.22876, 283.761  ],\n",
       "             mask=False,\n",
       "       fill_value=1e+20,\n",
       "            dtype=float32)"
      ]
     },
     "execution_count": 229,
     "metadata": {},
     "output_type": "execute_result"
    }
   ],
   "source": [
    "dat = nc.variables['tasmax'][time_start:(time_end + 1), lat_cell, lon_cell]\n",
    "dat[0:10]"
   ]
  },
  {
   "cell_type": "code",
   "execution_count": 230,
   "id": "28f457e8",
   "metadata": {},
   "outputs": [],
   "source": [
    "dat = np.subtract(dat.data, 273.15) #Convert from Kelvin to Celsius"
   ]
  },
  {
   "cell_type": "code",
   "execution_count": 231,
   "id": "ccf8b48c",
   "metadata": {},
   "outputs": [
    {
     "data": {
      "text/plain": [
       "11323"
      ]
     },
     "execution_count": 231,
     "metadata": {},
     "output_type": "execute_result"
    }
   ],
   "source": [
    "time_end - time_start + 1"
   ]
  },
  {
   "cell_type": "code",
   "execution_count": 232,
   "id": "8da104e7",
   "metadata": {},
   "outputs": [
    {
     "data": {
      "text/plain": [
       "11323"
      ]
     },
     "execution_count": 232,
     "metadata": {},
     "output_type": "execute_result"
    }
   ],
   "source": [
    "len(dat)"
   ]
  },
  {
   "cell_type": "code",
   "execution_count": 233,
   "id": "5ffd815b",
   "metadata": {},
   "outputs": [],
   "source": [
    "dates = num2date(nc_time[time_start:time_end + 1], units=nc_time.units, calendar=nc_time.calendar)"
   ]
  },
  {
   "cell_type": "code",
   "execution_count": 234,
   "id": "7bd0b7e8",
   "metadata": {},
   "outputs": [
    {
     "data": {
      "text/html": [
       "<div>\n",
       "<style scoped>\n",
       "    .dataframe tbody tr th:only-of-type {\n",
       "        vertical-align: middle;\n",
       "    }\n",
       "\n",
       "    .dataframe tbody tr th {\n",
       "        vertical-align: top;\n",
       "    }\n",
       "\n",
       "    .dataframe thead th {\n",
       "        text-align: right;\n",
       "    }\n",
       "</style>\n",
       "<table border=\"1\" class=\"dataframe\">\n",
       "  <thead>\n",
       "    <tr style=\"text-align: right;\">\n",
       "      <th></th>\n",
       "      <th>Date</th>\n",
       "      <th>MaxTemp</th>\n",
       "      <th>Experiment</th>\n",
       "    </tr>\n",
       "  </thead>\n",
       "  <tbody>\n",
       "    <tr>\n",
       "      <th>0</th>\n",
       "      <td>1969-12-31 12:00:00</td>\n",
       "      <td>8.317047</td>\n",
       "      <td>historical</td>\n",
       "    </tr>\n",
       "    <tr>\n",
       "      <th>1</th>\n",
       "      <td>1970-01-01 12:00:00</td>\n",
       "      <td>9.377350</td>\n",
       "      <td>historical</td>\n",
       "    </tr>\n",
       "    <tr>\n",
       "      <th>2</th>\n",
       "      <td>1970-01-02 12:00:00</td>\n",
       "      <td>9.651764</td>\n",
       "      <td>historical</td>\n",
       "    </tr>\n",
       "    <tr>\n",
       "      <th>3</th>\n",
       "      <td>1970-01-03 12:00:00</td>\n",
       "      <td>9.514557</td>\n",
       "      <td>historical</td>\n",
       "    </tr>\n",
       "    <tr>\n",
       "      <th>4</th>\n",
       "      <td>1970-01-04 12:00:00</td>\n",
       "      <td>7.344635</td>\n",
       "      <td>historical</td>\n",
       "    </tr>\n",
       "  </tbody>\n",
       "</table>\n",
       "</div>"
      ],
      "text/plain": [
       "                  Date   MaxTemp  Experiment\n",
       "0  1969-12-31 12:00:00  8.317047  historical\n",
       "1  1970-01-01 12:00:00  9.377350  historical\n",
       "2  1970-01-02 12:00:00  9.651764  historical\n",
       "3  1970-01-03 12:00:00  9.514557  historical\n",
       "4  1970-01-04 12:00:00  7.344635  historical"
      ]
     },
     "execution_count": 234,
     "metadata": {},
     "output_type": "execute_result"
    }
   ],
   "source": [
    "df = pd.DataFrame({'Date': dates, 'MaxTemp': dat, 'Experiment': 'historical'})\n",
    "df.head()"
   ]
  },
  {
   "cell_type": "code",
   "execution_count": 235,
   "id": "73c664c5",
   "metadata": {},
   "outputs": [],
   "source": [
    "df['Date'] = [dt.date(i.year, i.month, i.day) for i in df.Date]"
   ]
  },
  {
   "cell_type": "code",
   "execution_count": 236,
   "id": "f7c81f47",
   "metadata": {},
   "outputs": [
    {
     "data": {
      "text/html": [
       "<div>\n",
       "<style scoped>\n",
       "    .dataframe tbody tr th:only-of-type {\n",
       "        vertical-align: middle;\n",
       "    }\n",
       "\n",
       "    .dataframe tbody tr th {\n",
       "        vertical-align: top;\n",
       "    }\n",
       "\n",
       "    .dataframe thead th {\n",
       "        text-align: right;\n",
       "    }\n",
       "</style>\n",
       "<table border=\"1\" class=\"dataframe\">\n",
       "  <thead>\n",
       "    <tr style=\"text-align: right;\">\n",
       "      <th></th>\n",
       "      <th>Date</th>\n",
       "      <th>MaxTemp</th>\n",
       "      <th>Experiment</th>\n",
       "    </tr>\n",
       "  </thead>\n",
       "  <tbody>\n",
       "    <tr>\n",
       "      <th>0</th>\n",
       "      <td>1969-12-31</td>\n",
       "      <td>8.317047</td>\n",
       "      <td>historical</td>\n",
       "    </tr>\n",
       "    <tr>\n",
       "      <th>1</th>\n",
       "      <td>1970-01-01</td>\n",
       "      <td>9.377350</td>\n",
       "      <td>historical</td>\n",
       "    </tr>\n",
       "    <tr>\n",
       "      <th>2</th>\n",
       "      <td>1970-01-02</td>\n",
       "      <td>9.651764</td>\n",
       "      <td>historical</td>\n",
       "    </tr>\n",
       "    <tr>\n",
       "      <th>3</th>\n",
       "      <td>1970-01-03</td>\n",
       "      <td>9.514557</td>\n",
       "      <td>historical</td>\n",
       "    </tr>\n",
       "    <tr>\n",
       "      <th>4</th>\n",
       "      <td>1970-01-04</td>\n",
       "      <td>7.344635</td>\n",
       "      <td>historical</td>\n",
       "    </tr>\n",
       "  </tbody>\n",
       "</table>\n",
       "</div>"
      ],
      "text/plain": [
       "         Date   MaxTemp  Experiment\n",
       "0  1969-12-31  8.317047  historical\n",
       "1  1970-01-01  9.377350  historical\n",
       "2  1970-01-02  9.651764  historical\n",
       "3  1970-01-03  9.514557  historical\n",
       "4  1970-01-04  7.344635  historical"
      ]
     },
     "execution_count": 236,
     "metadata": {},
     "output_type": "execute_result"
    }
   ],
   "source": [
    "df.head()"
   ]
  },
  {
   "cell_type": "code",
   "execution_count": 237,
   "id": "079a0d05",
   "metadata": {},
   "outputs": [
    {
     "data": {
      "text/html": [
       "<div>\n",
       "<style scoped>\n",
       "    .dataframe tbody tr th:only-of-type {\n",
       "        vertical-align: middle;\n",
       "    }\n",
       "\n",
       "    .dataframe tbody tr th {\n",
       "        vertical-align: top;\n",
       "    }\n",
       "\n",
       "    .dataframe thead th {\n",
       "        text-align: right;\n",
       "    }\n",
       "</style>\n",
       "<table border=\"1\" class=\"dataframe\">\n",
       "  <thead>\n",
       "    <tr style=\"text-align: right;\">\n",
       "      <th></th>\n",
       "      <th>Date</th>\n",
       "      <th>MaxTemp</th>\n",
       "      <th>Experiment</th>\n",
       "    </tr>\n",
       "  </thead>\n",
       "  <tbody>\n",
       "    <tr>\n",
       "      <th>11318</th>\n",
       "      <td>2000-12-26</td>\n",
       "      <td>9.005768</td>\n",
       "      <td>historical</td>\n",
       "    </tr>\n",
       "    <tr>\n",
       "      <th>11319</th>\n",
       "      <td>2000-12-27</td>\n",
       "      <td>10.194733</td>\n",
       "      <td>historical</td>\n",
       "    </tr>\n",
       "    <tr>\n",
       "      <th>11320</th>\n",
       "      <td>2000-12-28</td>\n",
       "      <td>9.781647</td>\n",
       "      <td>historical</td>\n",
       "    </tr>\n",
       "    <tr>\n",
       "      <th>11321</th>\n",
       "      <td>2000-12-29</td>\n",
       "      <td>9.636139</td>\n",
       "      <td>historical</td>\n",
       "    </tr>\n",
       "    <tr>\n",
       "      <th>11322</th>\n",
       "      <td>2000-12-30</td>\n",
       "      <td>10.643707</td>\n",
       "      <td>historical</td>\n",
       "    </tr>\n",
       "  </tbody>\n",
       "</table>\n",
       "</div>"
      ],
      "text/plain": [
       "             Date    MaxTemp  Experiment\n",
       "11318  2000-12-26   9.005768  historical\n",
       "11319  2000-12-27  10.194733  historical\n",
       "11320  2000-12-28   9.781647  historical\n",
       "11321  2000-12-29   9.636139  historical\n",
       "11322  2000-12-30  10.643707  historical"
      ]
     },
     "execution_count": 237,
     "metadata": {},
     "output_type": "execute_result"
    }
   ],
   "source": [
    "df.tail()"
   ]
  },
  {
   "cell_type": "code",
   "execution_count": 238,
   "id": "7533d70c",
   "metadata": {},
   "outputs": [
    {
     "data": {
      "text/plain": [
       "Text(0, 0.5, 'Daily Maximum Temperature (°C)')"
      ]
     },
     "execution_count": 238,
     "metadata": {},
     "output_type": "execute_result"
    },
    {
     "data": {
      "image/png": "[encoded data removed]",
      "text/plain": [
       "<Figure size 432x288 with 1 Axes>"
      ]
     },
     "metadata": {
      "needs_background": "light"
     },
     "output_type": "display_data"
    }
   ],
   "source": [
    "plt.plot(df.Date, df.MaxTemp)\n",
    "plt.title(r'ACCESS-CM2 Daily $T_\\mathrm{Maximum}$ in Bhur (2000‒2014)')\n",
    "plt.xlabel(\"Year\")\n",
    "plt.ylabel(\"Daily Maximum Temperature (°C)\")"
   ]
  },
  {
   "cell_type": "code",
   "execution_count": 239,
   "id": "8ba6f53d",
   "metadata": {},
   "outputs": [],
   "source": [
    "nc.close()"
   ]
  },
  {
   "cell_type": "code",
   "execution_count": 240,
   "id": "8526a2de",
   "metadata": {},
   "outputs": [
    {
     "data": {
      "text/plain": [
       "['F:/CMIP6_Data/Data/tasmax_day_ACCESS-CM2_ssp126_r1i1p1f1_gn_20150101-20641231.nc',\n",
       " 'F:/CMIP6_Data/Data/tasmax_day_ACCESS-CM2_ssp126_r1i1p1f1_gn_20650101-21001231.nc',\n",
       " 'F:/CMIP6_Data/Data/tasmax_day_ACCESS-CM2_ssp245_r1i1p1f1_gn_20150101-20641231.nc',\n",
       " 'F:/CMIP6_Data/Data/tasmax_day_ACCESS-CM2_ssp245_r1i1p1f1_gn_20650101-21001231.nc',\n",
       " 'F:/CMIP6_Data/Data/tasmax_day_ACCESS-CM2_ssp370_r1i1p1f1_gn_20150101-20641231.nc',\n",
       " 'F:/CMIP6_Data/Data/tasmax_day_ACCESS-CM2_ssp370_r1i1p1f1_gn_20650101-21001231.nc',\n",
       " 'F:/CMIP6_Data/Data/tasmax_day_ACCESS-CM2_ssp585_r1i1p1f1_gn_20150101-20641231.nc',\n",
       " 'F:/CMIP6_Data/Data/tasmax_day_ACCESS-CM2_ssp585_r1i1p1f1_gn_20650101-21001231.nc']"
      ]
     },
     "execution_count": 240,
     "metadata": {},
     "output_type": "execute_result"
    }
   ],
   "source": [
    "future"
   ]
  },
  {
   "cell_type": "code",
   "execution_count": 242,
   "id": "a28b62cb",
   "metadata": {},
   "outputs": [],
   "source": [
    "for file in future:\n",
    "    nc = Dataset(file)\n",
    "    nc_time = nc.variables[\"time\"]\n",
    "    time_start = date2index(dt.datetime(2010, 1, 1), nc_time, select=\"nearest\")\n",
    "    time_end = date2index(dt.datetime(2099, 12, 31), nc_time, select=\"nearest\")\n",
    "    lat_cell = np.argmin(np.abs(nc_lat - target['lat']))\n",
    "    lon_cell = np.argmin(np.abs(nc_lon - target['lon']))\n",
    "    dat = nc.variables['tasmax'][time_start:(time_end + 1), lat_cell, lon_cell]\n",
    "    dat = np.subtract(dat.data, 273.15)\n",
    "    dates = num2date(nc_time[time_start:time_end + 1], units=nc_time.units, calendar=nc_time.calendar)\n",
    "    df2 = pd.DataFrame({'Date': dates, 'MaxTemp': dat, 'Experiment': re.findall(r'ssp[012345678]{3}', file)[0]})\n",
    "    df2['Date'] = [dt.date(i.year, i.month, i.day) for i in df2.Date]\n",
    "    df = df.append(df2, ignore_index=True, sort=True)\n",
    "    nc.close()"
   ]
  },
  {
   "cell_type": "code",
   "execution_count": 243,
   "id": "7d49cc61",
   "metadata": {},
   "outputs": [
    {
     "data": {
      "text/plain": [
       "<bound method NDFrame.head of               Date  Experiment    MaxTemp\n",
       "0       1969-12-31  historical   8.317047\n",
       "1       1970-01-01  historical   9.377350\n",
       "2       1970-01-02  historical   9.651764\n",
       "3       1970-01-03  historical   9.514557\n",
       "4       1970-01-04  historical   7.344635\n",
       "...            ...         ...        ...\n",
       "261142  2099-12-27      ssp585  18.048737\n",
       "261143  2099-12-28      ssp585  17.401520\n",
       "261144  2099-12-29      ssp585  15.163727\n",
       "261145  2099-12-30      ssp585  15.474518\n",
       "261146  2099-12-31      ssp585  14.898102\n",
       "\n",
       "[261147 rows x 3 columns]>"
      ]
     },
     "execution_count": 243,
     "metadata": {},
     "output_type": "execute_result"
    }
   ],
   "source": [
    "df.head"
   ]
  },
  {
   "cell_type": "code",
   "execution_count": 244,
   "id": "6ad60b7c",
   "metadata": {},
   "outputs": [
    {
     "data": {
      "text/plain": [
       "<AxesSubplot:>"
      ]
     },
     "execution_count": 244,
     "metadata": {},
     "output_type": "execute_result"
    },
    {
     "data": {
      "image/png": "[encoded data removed]",
      "text/plain": [
       "<Figure size 432x288 with 1 Axes>"
      ]
     },
     "metadata": {
      "needs_background": "light"
     },
     "output_type": "display_data"
    }
   ],
   "source": [
    "df.plot()"
   ]
  },
  {
   "cell_type": "code",
   "execution_count": 245,
   "id": "c30b37b3",
   "metadata": {},
   "outputs": [
    {
     "data": {
      "text/plain": [
       "Text(0, 0.5, 'Daily Maximum Temperature (°C)')"
      ]
     },
     "execution_count": 245,
     "metadata": {},
     "output_type": "execute_result"
    },
    {
     "data": {
      "image/png": "[encoded data removed]",
      "text/plain": [
       "<Figure size 432x288 with 1 Axes>"
      ]
     },
     "metadata": {
      "needs_background": "light"
     },
     "output_type": "display_data"
    }
   ],
   "source": [
    "plt.plot(df.Date[df.Experiment == \"ssp126\"], df.MaxTemp[df.Experiment == \"ssp126\"], 'y-', alpha=0.7, label = 'ssp 126')\n",
    "plt.plot(df.Date[df.Experiment == \"ssp245\"], df.MaxTemp[df.Experiment == \"ssp245\"], 'y-', alpha=0.7, label = 'ssp 245')\n",
    "plt.plot(df.Date[df.Experiment == \"ssp370\"], df.MaxTemp[df.Experiment == \"ssp370\"], 'y-', alpha=0.7, label = 'ssp 370')\n",
    "plt.plot(df.Date[df.Experiment == \"ssp585\"], df.MaxTemp[df.Experiment == \"ssp585\"], 'y-', alpha=0.7, label = 'ssp 585')\n",
    "plt.legend(loc='lower right')\n",
    "plt.title(r'ACCESS-CM2 Daily $T_\\mathrm{Maximum}$ in Bhur (2010‒2099)')\n",
    "plt.xlabel(\"Year\")\n",
    "plt.ylabel(\"Daily Maximum Temperature (°C)\")"
   ]
  },
  {
   "cell_type": "code",
   "execution_count": 246,
   "id": "49c2138a",
   "metadata": {},
   "outputs": [
    {
     "ename": "KeyboardInterrupt",
     "evalue": "",
     "output_type": "error",
     "traceback": [
      "\u001b[1;31m---------------------------------------------------------------------------\u001b[0m",
      "\u001b[1;31mKeyboardInterrupt\u001b[0m                         Traceback (most recent call last)",
      "\u001b[1;32m~\\AppData\\Local\\Temp/ipykernel_12952/1801012997.py\u001b[0m in \u001b[0;36m<module>\u001b[1;34m\u001b[0m\n\u001b[0;32m      1\u001b[0m \u001b[1;32mimport\u001b[0m \u001b[0mseaborn\u001b[0m \u001b[1;32mas\u001b[0m \u001b[0msns\u001b[0m\u001b[1;33m\u001b[0m\u001b[1;33m\u001b[0m\u001b[0m\n\u001b[1;32m----> 2\u001b[1;33m \u001b[0msns\u001b[0m\u001b[1;33m.\u001b[0m\u001b[0mlineplot\u001b[0m\u001b[1;33m(\u001b[0m\u001b[0mdata\u001b[0m\u001b[1;33m=\u001b[0m\u001b[0mdf\u001b[0m\u001b[1;33m,\u001b[0m \u001b[0mx\u001b[0m\u001b[1;33m=\u001b[0m\u001b[1;34m\"Date\"\u001b[0m\u001b[1;33m,\u001b[0m \u001b[0my\u001b[0m\u001b[1;33m=\u001b[0m\u001b[1;34m\"MaxTemp\"\u001b[0m\u001b[1;33m,\u001b[0m \u001b[0mhue\u001b[0m\u001b[1;33m=\u001b[0m\u001b[1;34m\"Experiment\"\u001b[0m\u001b[1;33m)\u001b[0m\u001b[1;33m.\u001b[0m\u001b[0mset\u001b[0m\u001b[1;33m(\u001b[0m\u001b[0mylabel\u001b[0m\u001b[1;33m=\u001b[0m\u001b[1;34m\"Maximum Temperature (°C)\"\u001b[0m\u001b[1;33m,\u001b[0m \u001b[0mtitle\u001b[0m\u001b[1;33m=\u001b[0m\u001b[1;34mr'ACCESS-CM2 Daily $T_\\mathrm{Maximum}$ in Bhur (2000‒2100)'\u001b[0m\u001b[1;33m)\u001b[0m\u001b[1;33m\u001b[0m\u001b[1;33m\u001b[0m\u001b[0m\n\u001b[0m",
      "\u001b[1;32m~\\anaconda3\\lib\\site-packages\\seaborn\\_decorators.py\u001b[0m in \u001b[0;36minner_f\u001b[1;34m(*args, **kwargs)\u001b[0m\n\u001b[0;32m     44\u001b[0m             )\n\u001b[0;32m     45\u001b[0m         \u001b[0mkwargs\u001b[0m\u001b[1;33m.\u001b[0m\u001b[0mupdate\u001b[0m\u001b[1;33m(\u001b[0m\u001b[1;33m{\u001b[0m\u001b[0mk\u001b[0m\u001b[1;33m:\u001b[0m \u001b[0marg\u001b[0m \u001b[1;32mfor\u001b[0m \u001b[0mk\u001b[0m\u001b[1;33m,\u001b[0m \u001b[0marg\u001b[0m \u001b[1;32min\u001b[0m \u001b[0mzip\u001b[0m\u001b[1;33m(\u001b[0m\u001b[0msig\u001b[0m\u001b[1;33m.\u001b[0m\u001b[0mparameters\u001b[0m\u001b[1;33m,\u001b[0m \u001b[0margs\u001b[0m\u001b[1;33m)\u001b[0m\u001b[1;33m}\u001b[0m\u001b[1;33m)\u001b[0m\u001b[1;33m\u001b[0m\u001b[1;33m\u001b[0m\u001b[0m\n\u001b[1;32m---> 46\u001b[1;33m         \u001b[1;32mreturn\u001b[0m \u001b[0mf\u001b[0m\u001b[1;33m(\u001b[0m\u001b[1;33m**\u001b[0m\u001b[0mkwargs\u001b[0m\u001b[1;33m)\u001b[0m\u001b[1;33m\u001b[0m\u001b[1;33m\u001b[0m\u001b[0m\n\u001b[0m\u001b[0;32m     47\u001b[0m     \u001b[1;32mreturn\u001b[0m \u001b[0minner_f\u001b[0m\u001b[1;33m\u001b[0m\u001b[1;33m\u001b[0m\u001b[0m\n\u001b[0;32m     48\u001b[0m \u001b[1;33m\u001b[0m\u001b[0m\n",
      "\u001b[1;32m~\\anaconda3\\lib\\site-packages\\seaborn\\relational.py\u001b[0m in \u001b[0;36mlineplot\u001b[1;34m(x, y, hue, size, style, data, palette, hue_order, hue_norm, sizes, size_order, size_norm, dashes, markers, style_order, units, estimator, ci, n_boot, seed, sort, err_style, err_kws, legend, ax, **kwargs)\u001b[0m\n\u001b[0;32m    708\u001b[0m     \u001b[0mp\u001b[0m\u001b[1;33m.\u001b[0m\u001b[0m_attach\u001b[0m\u001b[1;33m(\u001b[0m\u001b[0max\u001b[0m\u001b[1;33m)\u001b[0m\u001b[1;33m\u001b[0m\u001b[1;33m\u001b[0m\u001b[0m\n\u001b[0;32m    709\u001b[0m \u001b[1;33m\u001b[0m\u001b[0m\n\u001b[1;32m--> 710\u001b[1;33m     \u001b[0mp\u001b[0m\u001b[1;33m.\u001b[0m\u001b[0mplot\u001b[0m\u001b[1;33m(\u001b[0m\u001b[0max\u001b[0m\u001b[1;33m,\u001b[0m \u001b[0mkwargs\u001b[0m\u001b[1;33m)\u001b[0m\u001b[1;33m\u001b[0m\u001b[1;33m\u001b[0m\u001b[0m\n\u001b[0m\u001b[0;32m    711\u001b[0m     \u001b[1;32mreturn\u001b[0m \u001b[0max\u001b[0m\u001b[1;33m\u001b[0m\u001b[1;33m\u001b[0m\u001b[0m\n\u001b[0;32m    712\u001b[0m \u001b[1;33m\u001b[0m\u001b[0m\n",
      "\u001b[1;32m~\\anaconda3\\lib\\site-packages\\seaborn\\relational.py\u001b[0m in \u001b[0;36mplot\u001b[1;34m(self, ax, kws)\u001b[0m\n\u001b[0;32m    497\u001b[0m                     \u001b[0merr\u001b[0m \u001b[1;33m=\u001b[0m \u001b[1;34m\"estimator must be None when specifying units\"\u001b[0m\u001b[1;33m\u001b[0m\u001b[1;33m\u001b[0m\u001b[0m\n\u001b[0;32m    498\u001b[0m                     \u001b[1;32mraise\u001b[0m \u001b[0mValueError\u001b[0m\u001b[1;33m(\u001b[0m\u001b[0merr\u001b[0m\u001b[1;33m)\u001b[0m\u001b[1;33m\u001b[0m\u001b[1;33m\u001b[0m\u001b[0m\n\u001b[1;32m--> 499\u001b[1;33m                 \u001b[0mx\u001b[0m\u001b[1;33m,\u001b[0m \u001b[0my\u001b[0m\u001b[1;33m,\u001b[0m \u001b[0my_ci\u001b[0m \u001b[1;33m=\u001b[0m \u001b[0mself\u001b[0m\u001b[1;33m.\u001b[0m\u001b[0maggregate\u001b[0m\u001b[1;33m(\u001b[0m\u001b[0my\u001b[0m\u001b[1;33m,\u001b[0m \u001b[0mx\u001b[0m\u001b[1;33m,\u001b[0m \u001b[0mu\u001b[0m\u001b[1;33m)\u001b[0m\u001b[1;33m\u001b[0m\u001b[1;33m\u001b[0m\u001b[0m\n\u001b[0m\u001b[0;32m    500\u001b[0m             \u001b[1;32melse\u001b[0m\u001b[1;33m:\u001b[0m\u001b[1;33m\u001b[0m\u001b[1;33m\u001b[0m\u001b[0m\n\u001b[0;32m    501\u001b[0m                 \u001b[0my_ci\u001b[0m \u001b[1;33m=\u001b[0m \u001b[1;32mNone\u001b[0m\u001b[1;33m\u001b[0m\u001b[1;33m\u001b[0m\u001b[0m\n",
      "\u001b[1;32m~\\anaconda3\\lib\\site-packages\\seaborn\\relational.py\u001b[0m in \u001b[0;36maggregate\u001b[1;34m(self, vals, grouper, units)\u001b[0m\n\u001b[0;32m    412\u001b[0m                                columns=[\"low\", \"high\"]).stack()\n\u001b[0;32m    413\u001b[0m         \u001b[1;32melse\u001b[0m\u001b[1;33m:\u001b[0m\u001b[1;33m\u001b[0m\u001b[1;33m\u001b[0m\u001b[0m\n\u001b[1;32m--> 414\u001b[1;33m             \u001b[0mcis\u001b[0m \u001b[1;33m=\u001b[0m \u001b[0mgrouped\u001b[0m\u001b[1;33m.\u001b[0m\u001b[0mapply\u001b[0m\u001b[1;33m(\u001b[0m\u001b[0mbootstrapped_cis\u001b[0m\u001b[1;33m)\u001b[0m\u001b[1;33m\u001b[0m\u001b[1;33m\u001b[0m\u001b[0m\n\u001b[0m\u001b[0;32m    415\u001b[0m \u001b[1;33m\u001b[0m\u001b[0m\n\u001b[0;32m    416\u001b[0m         \u001b[1;31m# Unpack the CIs into \"wide\" format for plotting\u001b[0m\u001b[1;33m\u001b[0m\u001b[1;33m\u001b[0m\u001b[1;33m\u001b[0m\u001b[0m\n",
      "\u001b[1;32m~\\anaconda3\\lib\\site-packages\\pandas\\core\\groupby\\generic.py\u001b[0m in \u001b[0;36mapply\u001b[1;34m(self, func, *args, **kwargs)\u001b[0m\n\u001b[0;32m    221\u001b[0m     )\n\u001b[0;32m    222\u001b[0m     \u001b[1;32mdef\u001b[0m \u001b[0mapply\u001b[0m\u001b[1;33m(\u001b[0m\u001b[0mself\u001b[0m\u001b[1;33m,\u001b[0m \u001b[0mfunc\u001b[0m\u001b[1;33m,\u001b[0m \u001b[1;33m*\u001b[0m\u001b[0margs\u001b[0m\u001b[1;33m,\u001b[0m \u001b[1;33m**\u001b[0m\u001b[0mkwargs\u001b[0m\u001b[1;33m)\u001b[0m\u001b[1;33m:\u001b[0m\u001b[1;33m\u001b[0m\u001b[1;33m\u001b[0m\u001b[0m\n\u001b[1;32m--> 223\u001b[1;33m         \u001b[1;32mreturn\u001b[0m \u001b[0msuper\u001b[0m\u001b[1;33m(\u001b[0m\u001b[1;33m)\u001b[0m\u001b[1;33m.\u001b[0m\u001b[0mapply\u001b[0m\u001b[1;33m(\u001b[0m\u001b[0mfunc\u001b[0m\u001b[1;33m,\u001b[0m \u001b[1;33m*\u001b[0m\u001b[0margs\u001b[0m\u001b[1;33m,\u001b[0m \u001b[1;33m**\u001b[0m\u001b[0mkwargs\u001b[0m\u001b[1;33m)\u001b[0m\u001b[1;33m\u001b[0m\u001b[1;33m\u001b[0m\u001b[0m\n\u001b[0m\u001b[0;32m    224\u001b[0m \u001b[1;33m\u001b[0m\u001b[0m\n\u001b[0;32m    225\u001b[0m     \u001b[1;33m@\u001b[0m\u001b[0mdoc\u001b[0m\u001b[1;33m(\u001b[0m\u001b[0m_agg_template\u001b[0m\u001b[1;33m,\u001b[0m \u001b[0mexamples\u001b[0m\u001b[1;33m=\u001b[0m\u001b[0m_agg_examples_doc\u001b[0m\u001b[1;33m,\u001b[0m \u001b[0mklass\u001b[0m\u001b[1;33m=\u001b[0m\u001b[1;34m\"Series\"\u001b[0m\u001b[1;33m)\u001b[0m\u001b[1;33m\u001b[0m\u001b[1;33m\u001b[0m\u001b[0m\n",
      "\u001b[1;32m~\\anaconda3\\lib\\site-packages\\pandas\\core\\groupby\\groupby.py\u001b[0m in \u001b[0;36mapply\u001b[1;34m(self, func, *args, **kwargs)\u001b[0m\n\u001b[0;32m   1270\u001b[0m         \u001b[1;32mwith\u001b[0m \u001b[0moption_context\u001b[0m\u001b[1;33m(\u001b[0m\u001b[1;34m\"mode.chained_assignment\"\u001b[0m\u001b[1;33m,\u001b[0m \u001b[1;32mNone\u001b[0m\u001b[1;33m)\u001b[0m\u001b[1;33m:\u001b[0m\u001b[1;33m\u001b[0m\u001b[1;33m\u001b[0m\u001b[0m\n\u001b[0;32m   1271\u001b[0m             \u001b[1;32mtry\u001b[0m\u001b[1;33m:\u001b[0m\u001b[1;33m\u001b[0m\u001b[1;33m\u001b[0m\u001b[0m\n\u001b[1;32m-> 1272\u001b[1;33m                 \u001b[0mresult\u001b[0m \u001b[1;33m=\u001b[0m \u001b[0mself\u001b[0m\u001b[1;33m.\u001b[0m\u001b[0m_python_apply_general\u001b[0m\u001b[1;33m(\u001b[0m\u001b[0mf\u001b[0m\u001b[1;33m,\u001b[0m \u001b[0mself\u001b[0m\u001b[1;33m.\u001b[0m\u001b[0m_selected_obj\u001b[0m\u001b[1;33m)\u001b[0m\u001b[1;33m\u001b[0m\u001b[1;33m\u001b[0m\u001b[0m\n\u001b[0m\u001b[0;32m   1273\u001b[0m             \u001b[1;32mexcept\u001b[0m \u001b[0mTypeError\u001b[0m\u001b[1;33m:\u001b[0m\u001b[1;33m\u001b[0m\u001b[1;33m\u001b[0m\u001b[0m\n\u001b[0;32m   1274\u001b[0m                 \u001b[1;31m# gh-20949\u001b[0m\u001b[1;33m\u001b[0m\u001b[1;33m\u001b[0m\u001b[1;33m\u001b[0m\u001b[0m\n",
      "\u001b[1;32m~\\anaconda3\\lib\\site-packages\\pandas\\core\\groupby\\groupby.py\u001b[0m in \u001b[0;36m_python_apply_general\u001b[1;34m(self, f, data)\u001b[0m\n\u001b[0;32m   1304\u001b[0m             \u001b[0mdata\u001b[0m \u001b[0mafter\u001b[0m \u001b[0mapplying\u001b[0m \u001b[0mf\u001b[0m\u001b[1;33m\u001b[0m\u001b[1;33m\u001b[0m\u001b[0m\n\u001b[0;32m   1305\u001b[0m         \"\"\"\n\u001b[1;32m-> 1306\u001b[1;33m         \u001b[0mkeys\u001b[0m\u001b[1;33m,\u001b[0m \u001b[0mvalues\u001b[0m\u001b[1;33m,\u001b[0m \u001b[0mmutated\u001b[0m \u001b[1;33m=\u001b[0m \u001b[0mself\u001b[0m\u001b[1;33m.\u001b[0m\u001b[0mgrouper\u001b[0m\u001b[1;33m.\u001b[0m\u001b[0mapply\u001b[0m\u001b[1;33m(\u001b[0m\u001b[0mf\u001b[0m\u001b[1;33m,\u001b[0m \u001b[0mdata\u001b[0m\u001b[1;33m,\u001b[0m \u001b[0mself\u001b[0m\u001b[1;33m.\u001b[0m\u001b[0maxis\u001b[0m\u001b[1;33m)\u001b[0m\u001b[1;33m\u001b[0m\u001b[1;33m\u001b[0m\u001b[0m\n\u001b[0m\u001b[0;32m   1307\u001b[0m \u001b[1;33m\u001b[0m\u001b[0m\n\u001b[0;32m   1308\u001b[0m         return self._wrap_applied_output(\n",
      "\u001b[1;32m~\\anaconda3\\lib\\site-packages\\pandas\\core\\groupby\\ops.py\u001b[0m in \u001b[0;36mapply\u001b[1;34m(self, f, data, axis)\u001b[0m\n\u001b[0;32m    818\u001b[0m             \u001b[1;31m# group might be modified\u001b[0m\u001b[1;33m\u001b[0m\u001b[1;33m\u001b[0m\u001b[1;33m\u001b[0m\u001b[0m\n\u001b[0;32m    819\u001b[0m             \u001b[0mgroup_axes\u001b[0m \u001b[1;33m=\u001b[0m \u001b[0mgroup\u001b[0m\u001b[1;33m.\u001b[0m\u001b[0maxes\u001b[0m\u001b[1;33m\u001b[0m\u001b[1;33m\u001b[0m\u001b[0m\n\u001b[1;32m--> 820\u001b[1;33m             \u001b[0mres\u001b[0m \u001b[1;33m=\u001b[0m \u001b[0mf\u001b[0m\u001b[1;33m(\u001b[0m\u001b[0mgroup\u001b[0m\u001b[1;33m)\u001b[0m\u001b[1;33m\u001b[0m\u001b[1;33m\u001b[0m\u001b[0m\n\u001b[0m\u001b[0;32m    821\u001b[0m             \u001b[1;32mif\u001b[0m \u001b[1;32mnot\u001b[0m \u001b[0m_is_indexed_like\u001b[0m\u001b[1;33m(\u001b[0m\u001b[0mres\u001b[0m\u001b[1;33m,\u001b[0m \u001b[0mgroup_axes\u001b[0m\u001b[1;33m,\u001b[0m \u001b[0maxis\u001b[0m\u001b[1;33m)\u001b[0m\u001b[1;33m:\u001b[0m\u001b[1;33m\u001b[0m\u001b[1;33m\u001b[0m\u001b[0m\n\u001b[0;32m    822\u001b[0m                 \u001b[0mmutated\u001b[0m \u001b[1;33m=\u001b[0m \u001b[1;32mTrue\u001b[0m\u001b[1;33m\u001b[0m\u001b[1;33m\u001b[0m\u001b[0m\n",
      "\u001b[1;32m~\\anaconda3\\lib\\site-packages\\seaborn\\relational.py\u001b[0m in \u001b[0;36mbootstrapped_cis\u001b[1;34m(vals)\u001b[0m\n\u001b[0;32m    393\u001b[0m                 \u001b[1;32mreturn\u001b[0m \u001b[0mnull_ci\u001b[0m\u001b[1;33m\u001b[0m\u001b[1;33m\u001b[0m\u001b[0m\n\u001b[0;32m    394\u001b[0m \u001b[1;33m\u001b[0m\u001b[0m\n\u001b[1;32m--> 395\u001b[1;33m             \u001b[0mboots\u001b[0m \u001b[1;33m=\u001b[0m \u001b[0mbootstrap\u001b[0m\u001b[1;33m(\u001b[0m\u001b[0mvals\u001b[0m\u001b[1;33m,\u001b[0m \u001b[0mfunc\u001b[0m\u001b[1;33m=\u001b[0m\u001b[0mfunc\u001b[0m\u001b[1;33m,\u001b[0m \u001b[0mn_boot\u001b[0m\u001b[1;33m=\u001b[0m\u001b[0mn_boot\u001b[0m\u001b[1;33m,\u001b[0m \u001b[0mseed\u001b[0m\u001b[1;33m=\u001b[0m\u001b[0mseed\u001b[0m\u001b[1;33m)\u001b[0m\u001b[1;33m\u001b[0m\u001b[1;33m\u001b[0m\u001b[0m\n\u001b[0m\u001b[0;32m    396\u001b[0m             \u001b[0mcis\u001b[0m \u001b[1;33m=\u001b[0m \u001b[0mci_func\u001b[0m\u001b[1;33m(\u001b[0m\u001b[0mboots\u001b[0m\u001b[1;33m,\u001b[0m \u001b[0mci\u001b[0m\u001b[1;33m)\u001b[0m\u001b[1;33m\u001b[0m\u001b[1;33m\u001b[0m\u001b[0m\n\u001b[0;32m    397\u001b[0m             \u001b[1;32mreturn\u001b[0m \u001b[0mpd\u001b[0m\u001b[1;33m.\u001b[0m\u001b[0mSeries\u001b[0m\u001b[1;33m(\u001b[0m\u001b[0mcis\u001b[0m\u001b[1;33m,\u001b[0m \u001b[1;33m[\u001b[0m\u001b[1;34m\"low\"\u001b[0m\u001b[1;33m,\u001b[0m \u001b[1;34m\"high\"\u001b[0m\u001b[1;33m]\u001b[0m\u001b[1;33m)\u001b[0m\u001b[1;33m\u001b[0m\u001b[1;33m\u001b[0m\u001b[0m\n",
      "\u001b[1;32m~\\anaconda3\\lib\\site-packages\\seaborn\\algorithms.py\u001b[0m in \u001b[0;36mbootstrap\u001b[1;34m(*args, **kwargs)\u001b[0m\n\u001b[0;32m     81\u001b[0m     \u001b[0mboot_dist\u001b[0m \u001b[1;33m=\u001b[0m \u001b[1;33m[\u001b[0m\u001b[1;33m]\u001b[0m\u001b[1;33m\u001b[0m\u001b[1;33m\u001b[0m\u001b[0m\n\u001b[0;32m     82\u001b[0m     \u001b[1;32mfor\u001b[0m \u001b[0mi\u001b[0m \u001b[1;32min\u001b[0m \u001b[0mrange\u001b[0m\u001b[1;33m(\u001b[0m\u001b[0mint\u001b[0m\u001b[1;33m(\u001b[0m\u001b[0mn_boot\u001b[0m\u001b[1;33m)\u001b[0m\u001b[1;33m)\u001b[0m\u001b[1;33m:\u001b[0m\u001b[1;33m\u001b[0m\u001b[1;33m\u001b[0m\u001b[0m\n\u001b[1;32m---> 83\u001b[1;33m         \u001b[0mresampler\u001b[0m \u001b[1;33m=\u001b[0m \u001b[0mintegers\u001b[0m\u001b[1;33m(\u001b[0m\u001b[1;36m0\u001b[0m\u001b[1;33m,\u001b[0m \u001b[0mn\u001b[0m\u001b[1;33m,\u001b[0m \u001b[0mn\u001b[0m\u001b[1;33m,\u001b[0m \u001b[0mdtype\u001b[0m\u001b[1;33m=\u001b[0m\u001b[0mnp\u001b[0m\u001b[1;33m.\u001b[0m\u001b[0mintp\u001b[0m\u001b[1;33m)\u001b[0m  \u001b[1;31m# intp is indexing dtype\u001b[0m\u001b[1;33m\u001b[0m\u001b[1;33m\u001b[0m\u001b[0m\n\u001b[0m\u001b[0;32m     84\u001b[0m         \u001b[0msample\u001b[0m \u001b[1;33m=\u001b[0m \u001b[1;33m[\u001b[0m\u001b[0ma\u001b[0m\u001b[1;33m.\u001b[0m\u001b[0mtake\u001b[0m\u001b[1;33m(\u001b[0m\u001b[0mresampler\u001b[0m\u001b[1;33m,\u001b[0m \u001b[0maxis\u001b[0m\u001b[1;33m=\u001b[0m\u001b[1;36m0\u001b[0m\u001b[1;33m)\u001b[0m \u001b[1;32mfor\u001b[0m \u001b[0ma\u001b[0m \u001b[1;32min\u001b[0m \u001b[0margs\u001b[0m\u001b[1;33m]\u001b[0m\u001b[1;33m\u001b[0m\u001b[1;33m\u001b[0m\u001b[0m\n\u001b[0;32m     85\u001b[0m         \u001b[0mboot_dist\u001b[0m\u001b[1;33m.\u001b[0m\u001b[0mappend\u001b[0m\u001b[1;33m(\u001b[0m\u001b[0mf\u001b[0m\u001b[1;33m(\u001b[0m\u001b[1;33m*\u001b[0m\u001b[0msample\u001b[0m\u001b[1;33m,\u001b[0m \u001b[1;33m**\u001b[0m\u001b[0mfunc_kwargs\u001b[0m\u001b[1;33m)\u001b[0m\u001b[1;33m)\u001b[0m\u001b[1;33m\u001b[0m\u001b[1;33m\u001b[0m\u001b[0m\n",
      "\u001b[1;31mKeyboardInterrupt\u001b[0m: "
     ]
    },
    {
     "data": {
      "image/png": "[encoded data removed]",
      "text/plain": [
       "<Figure size 432x288 with 1 Axes>"
      ]
     },
     "metadata": {
      "needs_background": "light"
     },
     "output_type": "display_data"
    }
   ],
   "source": [
    "import seaborn as sns\n",
    "sns.lineplot(data=df, x=\"Date\", y=\"MaxTemp\", hue=\"Experiment\").set(ylabel=\"Maximum Temperature (°C)\", title=r'ACCESS-CM2 Daily $T_\\mathrm{Maximum}$ in Bhur (2000‒2100)')"
   ]
  },
  {
   "cell_type": "code",
   "execution_count": 247,
   "id": "f3eae637",
   "metadata": {},
   "outputs": [
    {
     "ename": "ValueError",
     "evalue": "Index contains duplicate entries, cannot reshape",
     "output_type": "error",
     "traceback": [
      "\u001b[1;31m---------------------------------------------------------------------------\u001b[0m",
      "\u001b[1;31mValueError\u001b[0m                                Traceback (most recent call last)",
      "\u001b[1;32m~\\AppData\\Local\\Temp/ipykernel_12952/911080228.py\u001b[0m in \u001b[0;36m<module>\u001b[1;34m\u001b[0m\n\u001b[1;32m----> 1\u001b[1;33m \u001b[0mdf_wide\u001b[0m \u001b[1;33m=\u001b[0m \u001b[0mdf\u001b[0m\u001b[1;33m.\u001b[0m\u001b[0mpivot\u001b[0m\u001b[1;33m(\u001b[0m\u001b[0mindex\u001b[0m\u001b[1;33m=\u001b[0m\u001b[1;34m'Date'\u001b[0m\u001b[1;33m,\u001b[0m \u001b[0mcolumns\u001b[0m\u001b[1;33m=\u001b[0m\u001b[1;34m'Experiment'\u001b[0m\u001b[1;33m)\u001b[0m\u001b[1;33m[\u001b[0m\u001b[1;34m'MaxTemp'\u001b[0m\u001b[1;33m]\u001b[0m\u001b[1;33m\u001b[0m\u001b[1;33m\u001b[0m\u001b[0m\n\u001b[0m\u001b[0;32m      2\u001b[0m \u001b[0mdf_wide\u001b[0m\u001b[1;33m.\u001b[0m\u001b[0mhead\u001b[0m\u001b[1;33m(\u001b[0m\u001b[1;33m)\u001b[0m\u001b[1;33m\u001b[0m\u001b[1;33m\u001b[0m\u001b[0m\n",
      "\u001b[1;32m~\\anaconda3\\lib\\site-packages\\pandas\\core\\frame.py\u001b[0m in \u001b[0;36mpivot\u001b[1;34m(self, index, columns, values)\u001b[0m\n\u001b[0;32m   7791\u001b[0m         \u001b[1;32mfrom\u001b[0m \u001b[0mpandas\u001b[0m\u001b[1;33m.\u001b[0m\u001b[0mcore\u001b[0m\u001b[1;33m.\u001b[0m\u001b[0mreshape\u001b[0m\u001b[1;33m.\u001b[0m\u001b[0mpivot\u001b[0m \u001b[1;32mimport\u001b[0m \u001b[0mpivot\u001b[0m\u001b[1;33m\u001b[0m\u001b[1;33m\u001b[0m\u001b[0m\n\u001b[0;32m   7792\u001b[0m \u001b[1;33m\u001b[0m\u001b[0m\n\u001b[1;32m-> 7793\u001b[1;33m         \u001b[1;32mreturn\u001b[0m \u001b[0mpivot\u001b[0m\u001b[1;33m(\u001b[0m\u001b[0mself\u001b[0m\u001b[1;33m,\u001b[0m \u001b[0mindex\u001b[0m\u001b[1;33m=\u001b[0m\u001b[0mindex\u001b[0m\u001b[1;33m,\u001b[0m \u001b[0mcolumns\u001b[0m\u001b[1;33m=\u001b[0m\u001b[0mcolumns\u001b[0m\u001b[1;33m,\u001b[0m \u001b[0mvalues\u001b[0m\u001b[1;33m=\u001b[0m\u001b[0mvalues\u001b[0m\u001b[1;33m)\u001b[0m\u001b[1;33m\u001b[0m\u001b[1;33m\u001b[0m\u001b[0m\n\u001b[0m\u001b[0;32m   7794\u001b[0m \u001b[1;33m\u001b[0m\u001b[0m\n\u001b[0;32m   7795\u001b[0m     _shared_docs[\n",
      "\u001b[1;32m~\\anaconda3\\lib\\site-packages\\pandas\\core\\reshape\\pivot.py\u001b[0m in \u001b[0;36mpivot\u001b[1;34m(data, index, columns, values)\u001b[0m\n\u001b[0;32m    515\u001b[0m         \u001b[1;32melse\u001b[0m\u001b[1;33m:\u001b[0m\u001b[1;33m\u001b[0m\u001b[1;33m\u001b[0m\u001b[0m\n\u001b[0;32m    516\u001b[0m             \u001b[0mindexed\u001b[0m \u001b[1;33m=\u001b[0m \u001b[0mdata\u001b[0m\u001b[1;33m.\u001b[0m\u001b[0m_constructor_sliced\u001b[0m\u001b[1;33m(\u001b[0m\u001b[0mdata\u001b[0m\u001b[1;33m[\u001b[0m\u001b[0mvalues\u001b[0m\u001b[1;33m]\u001b[0m\u001b[1;33m.\u001b[0m\u001b[0m_values\u001b[0m\u001b[1;33m,\u001b[0m \u001b[0mindex\u001b[0m\u001b[1;33m=\u001b[0m\u001b[0mmultiindex\u001b[0m\u001b[1;33m)\u001b[0m\u001b[1;33m\u001b[0m\u001b[1;33m\u001b[0m\u001b[0m\n\u001b[1;32m--> 517\u001b[1;33m     \u001b[1;32mreturn\u001b[0m \u001b[0mindexed\u001b[0m\u001b[1;33m.\u001b[0m\u001b[0munstack\u001b[0m\u001b[1;33m(\u001b[0m\u001b[0mcolumns_listlike\u001b[0m\u001b[1;33m)\u001b[0m\u001b[1;33m\u001b[0m\u001b[1;33m\u001b[0m\u001b[0m\n\u001b[0m\u001b[0;32m    518\u001b[0m \u001b[1;33m\u001b[0m\u001b[0m\n\u001b[0;32m    519\u001b[0m \u001b[1;33m\u001b[0m\u001b[0m\n",
      "\u001b[1;32m~\\anaconda3\\lib\\site-packages\\pandas\\core\\frame.py\u001b[0m in \u001b[0;36munstack\u001b[1;34m(self, level, fill_value)\u001b[0m\n\u001b[0;32m   8323\u001b[0m         \u001b[1;32mfrom\u001b[0m \u001b[0mpandas\u001b[0m\u001b[1;33m.\u001b[0m\u001b[0mcore\u001b[0m\u001b[1;33m.\u001b[0m\u001b[0mreshape\u001b[0m\u001b[1;33m.\u001b[0m\u001b[0mreshape\u001b[0m \u001b[1;32mimport\u001b[0m \u001b[0munstack\u001b[0m\u001b[1;33m\u001b[0m\u001b[1;33m\u001b[0m\u001b[0m\n\u001b[0;32m   8324\u001b[0m \u001b[1;33m\u001b[0m\u001b[0m\n\u001b[1;32m-> 8325\u001b[1;33m         \u001b[0mresult\u001b[0m \u001b[1;33m=\u001b[0m \u001b[0munstack\u001b[0m\u001b[1;33m(\u001b[0m\u001b[0mself\u001b[0m\u001b[1;33m,\u001b[0m \u001b[0mlevel\u001b[0m\u001b[1;33m,\u001b[0m \u001b[0mfill_value\u001b[0m\u001b[1;33m)\u001b[0m\u001b[1;33m\u001b[0m\u001b[1;33m\u001b[0m\u001b[0m\n\u001b[0m\u001b[0;32m   8326\u001b[0m \u001b[1;33m\u001b[0m\u001b[0m\n\u001b[0;32m   8327\u001b[0m         \u001b[1;32mreturn\u001b[0m \u001b[0mresult\u001b[0m\u001b[1;33m.\u001b[0m\u001b[0m__finalize__\u001b[0m\u001b[1;33m(\u001b[0m\u001b[0mself\u001b[0m\u001b[1;33m,\u001b[0m \u001b[0mmethod\u001b[0m\u001b[1;33m=\u001b[0m\u001b[1;34m\"unstack\"\u001b[0m\u001b[1;33m)\u001b[0m\u001b[1;33m\u001b[0m\u001b[1;33m\u001b[0m\u001b[0m\n",
      "\u001b[1;32m~\\anaconda3\\lib\\site-packages\\pandas\\core\\reshape\\reshape.py\u001b[0m in \u001b[0;36munstack\u001b[1;34m(obj, level, fill_value)\u001b[0m\n\u001b[0;32m    445\u001b[0m     \u001b[1;32mif\u001b[0m \u001b[0misinstance\u001b[0m\u001b[1;33m(\u001b[0m\u001b[0mobj\u001b[0m\u001b[1;33m,\u001b[0m \u001b[0mDataFrame\u001b[0m\u001b[1;33m)\u001b[0m\u001b[1;33m:\u001b[0m\u001b[1;33m\u001b[0m\u001b[1;33m\u001b[0m\u001b[0m\n\u001b[0;32m    446\u001b[0m         \u001b[1;32mif\u001b[0m \u001b[0misinstance\u001b[0m\u001b[1;33m(\u001b[0m\u001b[0mobj\u001b[0m\u001b[1;33m.\u001b[0m\u001b[0mindex\u001b[0m\u001b[1;33m,\u001b[0m \u001b[0mMultiIndex\u001b[0m\u001b[1;33m)\u001b[0m\u001b[1;33m:\u001b[0m\u001b[1;33m\u001b[0m\u001b[1;33m\u001b[0m\u001b[0m\n\u001b[1;32m--> 447\u001b[1;33m             \u001b[1;32mreturn\u001b[0m \u001b[0m_unstack_frame\u001b[0m\u001b[1;33m(\u001b[0m\u001b[0mobj\u001b[0m\u001b[1;33m,\u001b[0m \u001b[0mlevel\u001b[0m\u001b[1;33m,\u001b[0m \u001b[0mfill_value\u001b[0m\u001b[1;33m=\u001b[0m\u001b[0mfill_value\u001b[0m\u001b[1;33m)\u001b[0m\u001b[1;33m\u001b[0m\u001b[1;33m\u001b[0m\u001b[0m\n\u001b[0m\u001b[0;32m    448\u001b[0m         \u001b[1;32melse\u001b[0m\u001b[1;33m:\u001b[0m\u001b[1;33m\u001b[0m\u001b[1;33m\u001b[0m\u001b[0m\n\u001b[0;32m    449\u001b[0m             \u001b[1;32mreturn\u001b[0m \u001b[0mobj\u001b[0m\u001b[1;33m.\u001b[0m\u001b[0mT\u001b[0m\u001b[1;33m.\u001b[0m\u001b[0mstack\u001b[0m\u001b[1;33m(\u001b[0m\u001b[0mdropna\u001b[0m\u001b[1;33m=\u001b[0m\u001b[1;32mFalse\u001b[0m\u001b[1;33m)\u001b[0m\u001b[1;33m\u001b[0m\u001b[1;33m\u001b[0m\u001b[0m\n",
      "\u001b[1;32m~\\anaconda3\\lib\\site-packages\\pandas\\core\\reshape\\reshape.py\u001b[0m in \u001b[0;36m_unstack_frame\u001b[1;34m(obj, level, fill_value)\u001b[0m\n\u001b[0;32m    472\u001b[0m         \u001b[1;32mreturn\u001b[0m \u001b[0mobj\u001b[0m\u001b[1;33m.\u001b[0m\u001b[0m_constructor\u001b[0m\u001b[1;33m(\u001b[0m\u001b[0mmgr\u001b[0m\u001b[1;33m)\u001b[0m\u001b[1;33m\u001b[0m\u001b[1;33m\u001b[0m\u001b[0m\n\u001b[0;32m    473\u001b[0m     \u001b[1;32melse\u001b[0m\u001b[1;33m:\u001b[0m\u001b[1;33m\u001b[0m\u001b[1;33m\u001b[0m\u001b[0m\n\u001b[1;32m--> 474\u001b[1;33m         \u001b[0munstacker\u001b[0m \u001b[1;33m=\u001b[0m \u001b[0m_Unstacker\u001b[0m\u001b[1;33m(\u001b[0m\u001b[0mobj\u001b[0m\u001b[1;33m.\u001b[0m\u001b[0mindex\u001b[0m\u001b[1;33m,\u001b[0m \u001b[0mlevel\u001b[0m\u001b[1;33m=\u001b[0m\u001b[0mlevel\u001b[0m\u001b[1;33m,\u001b[0m \u001b[0mconstructor\u001b[0m\u001b[1;33m=\u001b[0m\u001b[0mobj\u001b[0m\u001b[1;33m.\u001b[0m\u001b[0m_constructor\u001b[0m\u001b[1;33m)\u001b[0m\u001b[1;33m\u001b[0m\u001b[1;33m\u001b[0m\u001b[0m\n\u001b[0m\u001b[0;32m    475\u001b[0m         return unstacker.get_result(\n\u001b[0;32m    476\u001b[0m             \u001b[0mobj\u001b[0m\u001b[1;33m.\u001b[0m\u001b[0m_values\u001b[0m\u001b[1;33m,\u001b[0m \u001b[0mvalue_columns\u001b[0m\u001b[1;33m=\u001b[0m\u001b[0mobj\u001b[0m\u001b[1;33m.\u001b[0m\u001b[0mcolumns\u001b[0m\u001b[1;33m,\u001b[0m \u001b[0mfill_value\u001b[0m\u001b[1;33m=\u001b[0m\u001b[0mfill_value\u001b[0m\u001b[1;33m\u001b[0m\u001b[1;33m\u001b[0m\u001b[0m\n",
      "\u001b[1;32m~\\anaconda3\\lib\\site-packages\\pandas\\core\\reshape\\reshape.py\u001b[0m in \u001b[0;36m__init__\u001b[1;34m(self, index, level, constructor)\u001b[0m\n\u001b[0;32m    131\u001b[0m             \u001b[1;32mraise\u001b[0m \u001b[0mValueError\u001b[0m\u001b[1;33m(\u001b[0m\u001b[1;34m\"Unstacked DataFrame is too big, causing int32 overflow\"\u001b[0m\u001b[1;33m)\u001b[0m\u001b[1;33m\u001b[0m\u001b[1;33m\u001b[0m\u001b[0m\n\u001b[0;32m    132\u001b[0m \u001b[1;33m\u001b[0m\u001b[0m\n\u001b[1;32m--> 133\u001b[1;33m         \u001b[0mself\u001b[0m\u001b[1;33m.\u001b[0m\u001b[0m_make_selectors\u001b[0m\u001b[1;33m(\u001b[0m\u001b[1;33m)\u001b[0m\u001b[1;33m\u001b[0m\u001b[1;33m\u001b[0m\u001b[0m\n\u001b[0m\u001b[0;32m    134\u001b[0m \u001b[1;33m\u001b[0m\u001b[0m\n\u001b[0;32m    135\u001b[0m     \u001b[1;33m@\u001b[0m\u001b[0mcache_readonly\u001b[0m\u001b[1;33m\u001b[0m\u001b[1;33m\u001b[0m\u001b[0m\n",
      "\u001b[1;32m~\\anaconda3\\lib\\site-packages\\pandas\\core\\reshape\\reshape.py\u001b[0m in \u001b[0;36m_make_selectors\u001b[1;34m(self)\u001b[0m\n\u001b[0;32m    183\u001b[0m \u001b[1;33m\u001b[0m\u001b[0m\n\u001b[0;32m    184\u001b[0m         \u001b[1;32mif\u001b[0m \u001b[0mmask\u001b[0m\u001b[1;33m.\u001b[0m\u001b[0msum\u001b[0m\u001b[1;33m(\u001b[0m\u001b[1;33m)\u001b[0m \u001b[1;33m<\u001b[0m \u001b[0mlen\u001b[0m\u001b[1;33m(\u001b[0m\u001b[0mself\u001b[0m\u001b[1;33m.\u001b[0m\u001b[0mindex\u001b[0m\u001b[1;33m)\u001b[0m\u001b[1;33m:\u001b[0m\u001b[1;33m\u001b[0m\u001b[1;33m\u001b[0m\u001b[0m\n\u001b[1;32m--> 185\u001b[1;33m             \u001b[1;32mraise\u001b[0m \u001b[0mValueError\u001b[0m\u001b[1;33m(\u001b[0m\u001b[1;34m\"Index contains duplicate entries, cannot reshape\"\u001b[0m\u001b[1;33m)\u001b[0m\u001b[1;33m\u001b[0m\u001b[1;33m\u001b[0m\u001b[0m\n\u001b[0m\u001b[0;32m    186\u001b[0m \u001b[1;33m\u001b[0m\u001b[0m\n\u001b[0;32m    187\u001b[0m         \u001b[0mself\u001b[0m\u001b[1;33m.\u001b[0m\u001b[0mgroup_index\u001b[0m \u001b[1;33m=\u001b[0m \u001b[0mcomp_index\u001b[0m\u001b[1;33m\u001b[0m\u001b[1;33m\u001b[0m\u001b[0m\n",
      "\u001b[1;31mValueError\u001b[0m: Index contains duplicate entries, cannot reshape"
     ]
    }
   ],
   "source": [
    "df_wide = df.pivot(index='Date', columns='Experiment')['MaxTemp']\n",
    "df_wide.head()"
   ]
  },
  {
   "cell_type": "code",
   "execution_count": 248,
   "id": "8400fa67",
   "metadata": {},
   "outputs": [
    {
     "data": {
      "text/html": [
       "<div>\n",
       "<style scoped>\n",
       "    .dataframe tbody tr th:only-of-type {\n",
       "        vertical-align: middle;\n",
       "    }\n",
       "\n",
       "    .dataframe tbody tr th {\n",
       "        vertical-align: top;\n",
       "    }\n",
       "\n",
       "    .dataframe thead th {\n",
       "        text-align: right;\n",
       "    }\n",
       "</style>\n",
       "<table border=\"1\" class=\"dataframe\">\n",
       "  <thead>\n",
       "    <tr style=\"text-align: right;\">\n",
       "      <th></th>\n",
       "      <th>Date</th>\n",
       "      <th>Experiment</th>\n",
       "      <th>MaxTemp</th>\n",
       "    </tr>\n",
       "  </thead>\n",
       "  <tbody>\n",
       "    <tr>\n",
       "      <th>0</th>\n",
       "      <td>1969-12-31</td>\n",
       "      <td>historical</td>\n",
       "      <td>8.317047</td>\n",
       "    </tr>\n",
       "    <tr>\n",
       "      <th>1</th>\n",
       "      <td>1970-01-01</td>\n",
       "      <td>historical</td>\n",
       "      <td>9.377350</td>\n",
       "    </tr>\n",
       "    <tr>\n",
       "      <th>2</th>\n",
       "      <td>1970-01-02</td>\n",
       "      <td>historical</td>\n",
       "      <td>9.651764</td>\n",
       "    </tr>\n",
       "    <tr>\n",
       "      <th>3</th>\n",
       "      <td>1970-01-03</td>\n",
       "      <td>historical</td>\n",
       "      <td>9.514557</td>\n",
       "    </tr>\n",
       "    <tr>\n",
       "      <th>4</th>\n",
       "      <td>1970-01-04</td>\n",
       "      <td>historical</td>\n",
       "      <td>7.344635</td>\n",
       "    </tr>\n",
       "    <tr>\n",
       "      <th>...</th>\n",
       "      <td>...</td>\n",
       "      <td>...</td>\n",
       "      <td>...</td>\n",
       "    </tr>\n",
       "    <tr>\n",
       "      <th>261142</th>\n",
       "      <td>2099-12-27</td>\n",
       "      <td>ssp585</td>\n",
       "      <td>18.048737</td>\n",
       "    </tr>\n",
       "    <tr>\n",
       "      <th>261143</th>\n",
       "      <td>2099-12-28</td>\n",
       "      <td>ssp585</td>\n",
       "      <td>17.401520</td>\n",
       "    </tr>\n",
       "    <tr>\n",
       "      <th>261144</th>\n",
       "      <td>2099-12-29</td>\n",
       "      <td>ssp585</td>\n",
       "      <td>15.163727</td>\n",
       "    </tr>\n",
       "    <tr>\n",
       "      <th>261145</th>\n",
       "      <td>2099-12-30</td>\n",
       "      <td>ssp585</td>\n",
       "      <td>15.474518</td>\n",
       "    </tr>\n",
       "    <tr>\n",
       "      <th>261146</th>\n",
       "      <td>2099-12-31</td>\n",
       "      <td>ssp585</td>\n",
       "      <td>14.898102</td>\n",
       "    </tr>\n",
       "  </tbody>\n",
       "</table>\n",
       "<p>261147 rows × 3 columns</p>\n",
       "</div>"
      ],
      "text/plain": [
       "              Date  Experiment    MaxTemp\n",
       "0       1969-12-31  historical   8.317047\n",
       "1       1970-01-01  historical   9.377350\n",
       "2       1970-01-02  historical   9.651764\n",
       "3       1970-01-03  historical   9.514557\n",
       "4       1970-01-04  historical   7.344635\n",
       "...            ...         ...        ...\n",
       "261142  2099-12-27      ssp585  18.048737\n",
       "261143  2099-12-28      ssp585  17.401520\n",
       "261144  2099-12-29      ssp585  15.163727\n",
       "261145  2099-12-30      ssp585  15.474518\n",
       "261146  2099-12-31      ssp585  14.898102\n",
       "\n",
       "[261147 rows x 3 columns]"
      ]
     },
     "execution_count": 248,
     "metadata": {},
     "output_type": "execute_result"
    }
   ],
   "source": [
    "df"
   ]
  },
  {
   "cell_type": "code",
   "execution_count": 80,
   "id": "8a84f4be",
   "metadata": {},
   "outputs": [
    {
     "data": {
      "text/html": [
       "<div>\n",
       "<style scoped>\n",
       "    .dataframe tbody tr th:only-of-type {\n",
       "        vertical-align: middle;\n",
       "    }\n",
       "\n",
       "    .dataframe tbody tr th {\n",
       "        vertical-align: top;\n",
       "    }\n",
       "\n",
       "    .dataframe thead th {\n",
       "        text-align: right;\n",
       "    }\n",
       "</style>\n",
       "<table border=\"1\" class=\"dataframe\">\n",
       "  <thead>\n",
       "    <tr style=\"text-align: right;\">\n",
       "      <th>Experiment</th>\n",
       "      <th>historical</th>\n",
       "      <th>ssp126</th>\n",
       "      <th>ssp245</th>\n",
       "    </tr>\n",
       "    <tr>\n",
       "      <th>Date</th>\n",
       "      <th></th>\n",
       "      <th></th>\n",
       "      <th></th>\n",
       "    </tr>\n",
       "  </thead>\n",
       "  <tbody>\n",
       "    <tr>\n",
       "      <th>2100-12-26</th>\n",
       "      <td>NaN</td>\n",
       "      <td>16.359039</td>\n",
       "      <td>16.023590</td>\n",
       "    </tr>\n",
       "    <tr>\n",
       "      <th>2100-12-27</th>\n",
       "      <td>NaN</td>\n",
       "      <td>13.847076</td>\n",
       "      <td>13.919830</td>\n",
       "    </tr>\n",
       "    <tr>\n",
       "      <th>2100-12-28</th>\n",
       "      <td>NaN</td>\n",
       "      <td>13.317535</td>\n",
       "      <td>18.381500</td>\n",
       "    </tr>\n",
       "    <tr>\n",
       "      <th>2100-12-29</th>\n",
       "      <td>NaN</td>\n",
       "      <td>14.486725</td>\n",
       "      <td>17.382721</td>\n",
       "    </tr>\n",
       "    <tr>\n",
       "      <th>2100-12-30</th>\n",
       "      <td>NaN</td>\n",
       "      <td>13.409821</td>\n",
       "      <td>14.300934</td>\n",
       "    </tr>\n",
       "  </tbody>\n",
       "</table>\n",
       "</div>"
      ],
      "text/plain": [
       "Experiment  historical     ssp126     ssp245\n",
       "Date                                        \n",
       "2100-12-26         NaN  16.359039  16.023590\n",
       "2100-12-27         NaN  13.847076  13.919830\n",
       "2100-12-28         NaN  13.317535  18.381500\n",
       "2100-12-29         NaN  14.486725  17.382721\n",
       "2100-12-30         NaN  13.409821  14.300934"
      ]
     },
     "execution_count": 80,
     "metadata": {},
     "output_type": "execute_result"
    }
   ],
   "source": [
    "df_wide.tail()"
   ]
  },
  {
   "cell_type": "code",
   "execution_count": 81,
   "id": "5d9b335e",
   "metadata": {},
   "outputs": [
    {
     "data": {
      "text/plain": [
       "Text(0, 0.5, 'Maximum Temperature (°C)')"
      ]
     },
     "execution_count": 81,
     "metadata": {},
     "output_type": "execute_result"
    },
    {
     "data": {
      "image/png": "[encoded data removed]",
      "text/plain": [
       "<Figure size 432x288 with 1 Axes>"
      ]
     },
     "metadata": {
      "needs_background": "light"
     },
     "output_type": "display_data"
    }
   ],
   "source": [
    "df_wide.plot(title = r'ACCESS-CM2 Daily $T_\\mathrm{Maximum}$ in Bhur (2000‒2100)')\n",
    "plt.ylabel(\"Maximum Temperature (°C)\")"
   ]
  },
  {
   "cell_type": "code",
   "execution_count": 250,
   "id": "fc5ad615",
   "metadata": {},
   "outputs": [],
   "source": [
    "df_base = df[(df.Date >= dt.date(1970, 1, 1)) & (df.Date <= dt.date(2000, 12, 31))] #reference period\n",
    "df_2020s = df[(df.Date >= dt.date(2010, 1, 1)) & (df.Date <= dt.date(2039, 12, 31))] #2020s\n",
    "df_2030s = df[(df.Date >= dt.date(2020, 1, 1)) & (df.Date <= dt.date(2049, 12, 31))] #2030s\n",
    "df_2040s = df[(df.Date >= dt.date(2030, 1, 1)) & (df.Date <= dt.date(2059, 12, 31))] #2040s\n",
    "df_2050s = df[(df.Date >= dt.date(2040, 1, 1)) & (df.Date <= dt.date(2069, 12, 31))] #2050s\n",
    "df_2060s = df[(df.Date >= dt.date(2050, 1, 1)) & (df.Date <= dt.date(2079, 12, 31))] #2060s\n",
    "df_2070s = df[(df.Date >= dt.date(2060, 1, 1)) & (df.Date <= dt.date(2089, 12, 31))] #2070s\n",
    "df_2080s = df[(df.Date >= dt.date(2070, 1, 1)) & (df.Date <= dt.date(2099, 12, 31))] #2080s"
   ]
  },
  {
   "cell_type": "code",
   "execution_count": 251,
   "id": "63922ebd",
   "metadata": {},
   "outputs": [],
   "source": [
    "bsln126 = df_base[df_base.Experiment.isin([\"historical\", \"ssp126\"])].MaxTemp.mean()\n",
    "bsln245 = df_base[df_base.Experiment.isin([\"historical\", \"ssp245\"])].MaxTemp.mean()\n",
    "bsln370 = df_base[df_base.Experiment.isin([\"historical\", \"ssp370\"])].MaxTemp.mean()\n",
    "bsln545 = df_base[df_base.Experiment.isin([\"historical\", \"ssp545\"])].MaxTemp.mean()\n",
    "bsln = np.mean([bsln126, bsln245, bsln370, bsln545])"
   ]
  },
  {
   "cell_type": "code",
   "execution_count": 252,
   "id": "74f30b00",
   "metadata": {},
   "outputs": [],
   "source": [
    "cf2020s_ssp126 = df_2020s[df_2020s.Experiment == \"ssp126\"].MaxTemp.mean() - bsln\n",
    "cf2020s_ssp245 = df_2020s[df_2020s.Experiment == \"ssp245\"].MaxTemp.mean() - bsln\n",
    "cf2020s_ssp370 = df_2020s[df_2020s.Experiment == \"ssp370\"].MaxTemp.mean() - bsln\n",
    "cf2020s_ssp545 = df_2020s[df_2020s.Experiment == \"ssp545\"].MaxTemp.mean() - bsln\n",
    "cf2030s_ssp126 = df_2030s[df_2030s.Experiment == \"ssp126\"].MaxTemp.mean() - bsln\n",
    "cf2030s_ssp245 = df_2030s[df_2030s.Experiment == \"ssp245\"].MaxTemp.mean() - bsln\n",
    "cf2030s_ssp370 = df_2030s[df_2030s.Experiment == \"ssp370\"].MaxTemp.mean() - bsln\n",
    "cf2030s_ssp545 = df_2030s[df_2030s.Experiment == \"ssp545\"].MaxTemp.mean() - bsln\n",
    "cf2040s_ssp126 = df_2040s[df_2040s.Experiment == \"ssp126\"].MaxTemp.mean() - bsln\n",
    "cf2040s_ssp245 = df_2040s[df_2040s.Experiment == \"ssp245\"].MaxTemp.mean() - bsln\n",
    "cf2040s_ssp370 = df_2040s[df_2040s.Experiment == \"ssp370\"].MaxTemp.mean() - bsln\n",
    "cf2040s_ssp545 = df_2040s[df_2040s.Experiment == \"ssp545\"].MaxTemp.mean() - bsln\n",
    "cf2050s_ssp126 = df_2050s[df_2050s.Experiment == \"ssp126\"].MaxTemp.mean() - bsln\n",
    "cf2050s_ssp245 = df_2050s[df_2050s.Experiment == \"ssp245\"].MaxTemp.mean() - bsln\n",
    "cf2050s_ssp370 = df_2050s[df_2050s.Experiment == \"ssp370\"].MaxTemp.mean() - bsln\n",
    "cf2050s_ssp545 = df_2050s[df_2050s.Experiment == \"ssp545\"].MaxTemp.mean() - bsln\n",
    "cf2060s_ssp126 = df_2060s[df_2060s.Experiment == \"ssp126\"].MaxTemp.mean() - bsln\n",
    "cf2060s_ssp245 = df_2060s[df_2060s.Experiment == \"ssp245\"].MaxTemp.mean() - bsln\n",
    "cf2060s_ssp370 = df_2060s[df_2060s.Experiment == \"ssp370\"].MaxTemp.mean() - bsln\n",
    "cf2060s_ssp545 = df_2060s[df_2060s.Experiment == \"ssp545\"].MaxTemp.mean() - bsln\n",
    "cf2070s_ssp126 = df_2070s[df_2070s.Experiment == \"ssp126\"].MaxTemp.mean() - bsln\n",
    "cf2070s_ssp245 = df_2070s[df_2070s.Experiment == \"ssp245\"].MaxTemp.mean() - bsln\n",
    "cf2070s_ssp370 = df_2070s[df_2070s.Experiment == \"ssp370\"].MaxTemp.mean() - bsln\n",
    "cf2070s_ssp545 = df_2070s[df_2070s.Experiment == \"ssp545\"].MaxTemp.mean() - bsln\n",
    "cf2080s_ssp126 = df_2080s[df_2080s.Experiment == \"ssp126\"].MaxTemp.mean() - bsln\n",
    "cf2080s_ssp245 = df_2080s[df_2080s.Experiment == \"ssp245\"].MaxTemp.mean() - bsln\n",
    "cf2080s_ssp370 = df_2080s[df_2080s.Experiment == \"ssp370\"].MaxTemp.mean() - bsln\n",
    "cf2080s_ssp545 = df_2080s[df_2080s.Experiment == \"ssp545\"].MaxTemp.mean() - bsln"
   ]
  },
  {
   "cell_type": "code",
   "execution_count": 253,
   "id": "caa0b5f0",
   "metadata": {},
   "outputs": [
    {
     "data": {
      "text/html": [
       "<div>\n",
       "<style scoped>\n",
       "    .dataframe tbody tr th:only-of-type {\n",
       "        vertical-align: middle;\n",
       "    }\n",
       "\n",
       "    .dataframe tbody tr th {\n",
       "        vertical-align: top;\n",
       "    }\n",
       "\n",
       "    .dataframe thead th {\n",
       "        text-align: right;\n",
       "    }\n",
       "</style>\n",
       "<table border=\"1\" class=\"dataframe\">\n",
       "  <thead>\n",
       "    <tr style=\"text-align: right;\">\n",
       "      <th></th>\n",
       "      <th>Model</th>\n",
       "      <th>Ensemble</th>\n",
       "      <th>Scenario</th>\n",
       "      <th>Baseline (°C)</th>\n",
       "      <th>2020s</th>\n",
       "      <th>2030s</th>\n",
       "      <th>2040s</th>\n",
       "      <th>2050s</th>\n",
       "      <th>2060s</th>\n",
       "      <th>2070s</th>\n",
       "      <th>2080s</th>\n",
       "    </tr>\n",
       "  </thead>\n",
       "  <tbody>\n",
       "    <tr>\n",
       "      <th>0</th>\n",
       "      <td>ACCESS-CM2</td>\n",
       "      <td>r1i1p1</td>\n",
       "      <td>ssp126</td>\n",
       "      <td>17.766876</td>\n",
       "      <td>1.188120</td>\n",
       "      <td>1.486721</td>\n",
       "      <td>1.816484</td>\n",
       "      <td>2.099861</td>\n",
       "      <td>2.186138</td>\n",
       "      <td>2.245155</td>\n",
       "      <td>2.256041</td>\n",
       "    </tr>\n",
       "    <tr>\n",
       "      <th>1</th>\n",
       "      <td>ACCESS-CM2</td>\n",
       "      <td>r1i1p1</td>\n",
       "      <td>ssp245</td>\n",
       "      <td>17.766876</td>\n",
       "      <td>1.091707</td>\n",
       "      <td>1.408997</td>\n",
       "      <td>1.837358</td>\n",
       "      <td>2.272375</td>\n",
       "      <td>2.613728</td>\n",
       "      <td>2.901901</td>\n",
       "      <td>3.121983</td>\n",
       "    </tr>\n",
       "    <tr>\n",
       "      <th>2</th>\n",
       "      <td>ACCESS-CM2</td>\n",
       "      <td>r1i1p1</td>\n",
       "      <td>ssp370</td>\n",
       "      <td>17.766876</td>\n",
       "      <td>1.222782</td>\n",
       "      <td>1.548956</td>\n",
       "      <td>2.022907</td>\n",
       "      <td>2.461065</td>\n",
       "      <td>2.981953</td>\n",
       "      <td>3.512262</td>\n",
       "      <td>4.089325</td>\n",
       "    </tr>\n",
       "    <tr>\n",
       "      <th>3</th>\n",
       "      <td>ACCESS-CM2</td>\n",
       "      <td>r1i1p1</td>\n",
       "      <td>ssp545</td>\n",
       "      <td>17.766876</td>\n",
       "      <td>NaN</td>\n",
       "      <td>NaN</td>\n",
       "      <td>NaN</td>\n",
       "      <td>NaN</td>\n",
       "      <td>NaN</td>\n",
       "      <td>NaN</td>\n",
       "      <td>NaN</td>\n",
       "    </tr>\n",
       "  </tbody>\n",
       "</table>\n",
       "</div>"
      ],
      "text/plain": [
       "        Model Ensemble Scenario  Baseline (°C)     2020s     2030s     2040s  \\\n",
       "0  ACCESS-CM2   r1i1p1   ssp126      17.766876  1.188120  1.486721  1.816484   \n",
       "1  ACCESS-CM2   r1i1p1   ssp245      17.766876  1.091707  1.408997  1.837358   \n",
       "2  ACCESS-CM2   r1i1p1   ssp370      17.766876  1.222782  1.548956  2.022907   \n",
       "3  ACCESS-CM2   r1i1p1   ssp545      17.766876       NaN       NaN       NaN   \n",
       "\n",
       "      2050s     2060s     2070s     2080s  \n",
       "0  2.099861  2.186138  2.245155  2.256041  \n",
       "1  2.272375  2.613728  2.901901  3.121983  \n",
       "2  2.461065  2.981953  3.512262  4.089325  \n",
       "3       NaN       NaN       NaN       NaN  "
      ]
     },
     "execution_count": 253,
     "metadata": {},
     "output_type": "execute_result"
    }
   ],
   "source": [
    "pd.DataFrame({\"Model\": np.repeat(\"ACCESS-CM2\", 4),\n",
    "              \"Ensemble\": np.repeat(\"r1i1p1\", 4),\n",
    "              \"Scenario\": [\"ssp126\", \"ssp245\", \"ssp370\", \"ssp545\"],\n",
    "              \"Baseline (°C)\": np.repeat([bsln], 4),\n",
    "              \"2020s\": [cf2020s_ssp126, cf2020s_ssp245, cf2020s_ssp370, cf2020s_ssp545],\n",
    "              \"2030s\": [cf2030s_ssp126, cf2030s_ssp245, cf2030s_ssp370, cf2030s_ssp545],\n",
    "              \"2040s\": [cf2040s_ssp126, cf2040s_ssp245, cf2040s_ssp370, cf2040s_ssp545],\n",
    "              \"2050s\": [cf2050s_ssp126, cf2050s_ssp245, cf2050s_ssp370, cf2050s_ssp545],\n",
    "              \"2060s\": [cf2060s_ssp126, cf2060s_ssp245, cf2060s_ssp370, cf2060s_ssp545],\n",
    "              \"2070s\": [cf2070s_ssp126, cf2070s_ssp245, cf2070s_ssp370, cf2070s_ssp545],\n",
    "              \"2080s\": [cf2080s_ssp126, cf2080s_ssp245, cf2080s_ssp370, cf2080s_ssp545]})"
   ]
  },
  {
   "cell_type": "code",
   "execution_count": null,
   "id": "dc5e5091",
   "metadata": {},
   "outputs": [],
   "source": []
  }
 ],
 "metadata": {
  "kernelspec": {
   "display_name": "Python 3 (ipykernel)",
   "language": "python",
   "name": "python3"
  },
  "language_info": {
   "codemirror_mode": {
    "name": "ipython",
    "version": 3
   },
   "file_extension": ".py",
   "mimetype": "text/x-python",
   "name": "python",
   "nbconvert_exporter": "python",
   "pygments_lexer": "ipython3",
   "version": "3.8.12"
  }
 },
 "nbformat": 4,
 "nbformat_minor": 5
}
